{
 "cells": [
  {
   "attachments": {},
   "cell_type": "markdown",
   "id": "d4893ee6",
   "metadata": {},
   "source": [
    "# <center> **Tesina di Fondamenti di Data Science 2022-2023**\n",
    "\n",
    "<br>\n",
    "<div align=\"center\">\n",
    "    <img src=\"img/wallpaper.jpg\" width=\"1300\" height=\"auto\">\n",
    "\n",
    "### <center> _Andrea Spinelli, Raffaele Terracino, Marco Valenti_\n",
    "##### <center> \\<GG/MM/AAAA\\>\n",
    "\n",
    "***\n",
    "***"
   ]
  },
  {
   "attachments": {},
   "cell_type": "markdown",
   "id": "4ed5dffb",
   "metadata": {},
   "source": [
    "# __`Indice`__"
   ]
  },
  {
   "attachments": {},
   "cell_type": "markdown",
   "id": "f4687743",
   "metadata": {},
   "source": [
    "###  [`1. - Traccia`](#1-traccia)\n",
    "### [`2. - Descrizione delle features`](#)\n",
    "##### &emsp;&emsp; [`2.1 - Subtitle`](#)\n",
    "##### &emsp;&emsp; [`2.2 - Subtitle`](#)\n",
    "### [`3. - Pipeline Analysis`](#)\n",
    "##### &emsp;&emsp; [`3.1 - Subtitle`](#)\n",
    "##### &emsp;&emsp; [`3.2 - Subtitle`](#)\n",
    "### [`4. - Risultati`](#)\n",
    "##### &emsp;&emsp; [`4.1 - Subtitle`](#)\n",
    "##### &emsp;&emsp; [`4.2 - Subtitle`](#)\n",
    "### [`5. - Extra`](#)"
   ]
  },
  {
   "attachments": {},
   "cell_type": "markdown",
   "id": "a21597c8",
   "metadata": {},
   "source": [
    "***\n",
    "***\n",
    "# __`1 Traccia`__"
   ]
  },
  {
   "attachments": {},
   "cell_type": "markdown",
   "id": "cb5b2ab5",
   "metadata": {},
   "source": [
    "Sia dato il dataset `digits.csv` che contiene le immagini di numeri scritti a mano ($8\\times 8=64$ pixel), inseriti come righe del file, in cui l’ultima colonna di ogni riga rappresenta il target.\n",
    "\n",
    "<br>\n",
    "<div align=\"center\">\n",
    "    <img src=\"img/track1.png\" width=\"800\" height=\"auto\"><br>\n",
    "    <a href=\"https://www.educative.io/answers/what-is-datasetsloaddigits-in-sklearn\"> https://www.educative.io/answers/what-is-datasetsloaddigits-in-sklearn </a>\n",
    "</div>\n",
    "\n",
    "Realizzare un __Progetto di Data Analysis__ che:\n",
    "- Prevede l’`utilizzo della PCA` per proiettare le $64$ dimensioni sulle prime due componenti principali, questi punti sono la proiezione di ciascun punto dati lungo le direzioni con la varianza maggiore;\n",
    "- Prevede la `clusterizzazione dei punti` ($k=10$) tramite tecnica $K$ _- Means_ (basato sul centroide);\n",
    "- Ripete la `clusterizzazione sulle proiezioni sulle prime N componenti principali`, con $N$ che varia tra $2$ e $6$;\n",
    "- Per ogni clusterizzazione produce una `matrice di confusione` che metta a confronto l’accuracy nella classificazione al variare del numero di componenti principali scelte.\n",
    "\n",
    "<br>\n",
    "<div align=\"center\">\n",
    "    <img src=\"img/track2.png\" width=\"800\" height=\"auto\">\n",
    "</div>\n"
   ]
  },
  {
   "attachments": {},
   "cell_type": "markdown",
   "id": "0902fd99",
   "metadata": {},
   "source": [
    "***\n",
    "***\n",
    "# __`2 Descrizione delle features`__"
   ]
  },
  {
   "attachments": {},
   "cell_type": "markdown",
   "id": "6624065d",
   "metadata": {},
   "source": [
    "\n",
    "### __`2.1 Subtitle`__"
   ]
  },
  {
   "attachments": {},
   "cell_type": "markdown",
   "id": "958660ca",
   "metadata": {},
   "source": [
    "//Some text\n",
    "\n",
    "***"
   ]
  },
  {
   "attachments": {},
   "cell_type": "markdown",
   "id": "ed748f4b",
   "metadata": {},
   "source": [
    "### __`2.2 Subtitle`__"
   ]
  },
  {
   "attachments": {},
   "cell_type": "markdown",
   "id": "1a477323",
   "metadata": {},
   "source": [
    "//Some text"
   ]
  },
  {
   "attachments": {},
   "cell_type": "markdown",
   "id": "ab935cc9",
   "metadata": {},
   "source": [
    "***\n",
    "***\n",
    "# __`3 Pipeline Analysis`__"
   ]
  },
  {
   "attachments": {},
   "cell_type": "markdown",
   "id": "19c195a9",
   "metadata": {},
   "source": [
    "### __`3.1 Subtitle`__"
   ]
  },
  {
   "attachments": {},
   "cell_type": "markdown",
   "id": "8eb5aec9",
   "metadata": {},
   "source": [
    "//Some text\n",
    "\n",
    "***"
   ]
  },
  {
   "attachments": {},
   "cell_type": "markdown",
   "id": "977d6e85",
   "metadata": {},
   "source": [
    "### __`3.2 Subtitle`__"
   ]
  },
  {
   "attachments": {},
   "cell_type": "markdown",
   "id": "ea9d3123",
   "metadata": {},
   "source": [
    "//Some text"
   ]
  },
  {
   "attachments": {},
   "cell_type": "markdown",
   "id": "8a8e1e15",
   "metadata": {},
   "source": [
    "***\n",
    "***\n",
    "# __`4 Risultati`__"
   ]
  },
  {
   "attachments": {},
   "cell_type": "markdown",
   "id": "804fec58",
   "metadata": {},
   "source": [
    "### __`4.1 Subtitle`__"
   ]
  },
  {
   "attachments": {},
   "cell_type": "markdown",
   "id": "525a050e",
   "metadata": {},
   "source": [
    "//Some text"
   ]
  },
  {
   "attachments": {},
   "cell_type": "markdown",
   "id": "272dd75b",
   "metadata": {},
   "source": [
    "***"
   ]
  },
  {
   "attachments": {},
   "cell_type": "markdown",
   "id": "598e06ae",
   "metadata": {},
   "source": [
    "### __`4.2 Subtitle`__"
   ]
  },
  {
   "attachments": {},
   "cell_type": "markdown",
   "id": "80c8108c",
   "metadata": {},
   "source": [
    "//Some text"
   ]
  },
  {
   "attachments": {},
   "cell_type": "markdown",
   "id": "0da33a5a",
   "metadata": {},
   "source": [
    "***\n",
    "***\n",
    "# __`5 Extra`__"
   ]
  },
  {
   "attachments": {},
   "cell_type": "markdown",
   "id": "1011c7ac",
   "metadata": {},
   "source": [
    "//Some text"
   ]
  }
 ],
 "metadata": {
  "kernelspec": {
   "display_name": "Python 3 (ipykernel)",
   "language": "python",
   "name": "python3"
  },
  "language_info": {
   "codemirror_mode": {
    "name": "ipython",
    "version": 3
   },
   "file_extension": ".py",
   "mimetype": "text/x-python",
   "name": "python",
   "nbconvert_exporter": "python",
   "pygments_lexer": "ipython3",
   "version": "3.9.7"
  }
 },
 "nbformat": 4,
 "nbformat_minor": 5
}
